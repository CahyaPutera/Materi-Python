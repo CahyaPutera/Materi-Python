{
 "cells": [
  {
   "cell_type": "code",
   "execution_count": 1,
   "metadata": {},
   "outputs": [],
   "source": [
    "import dash\n",
    "import dash_core_components as dcc\n",
    "import dash_html_components as html\n",
    "import plotly.graph_objs as go\n",
    "import pandas as pd\n",
    "import seaborn as sns"
   ]
  },
  {
   "cell_type": "code",
   "execution_count": 2,
   "metadata": {},
   "outputs": [],
   "source": [
    "tips = sns.load_dataset('tips')"
   ]
  },
  {
   "cell_type": "code",
   "execution_count": 3,
   "metadata": {},
   "outputs": [],
   "source": [
    "app = dash.Dash()"
   ]
  },
  {
   "cell_type": "code",
   "execution_count": null,
   "metadata": {},
   "outputs": [
    {
     "name": "stdout",
     "output_type": "stream",
     "text": [
      "Running on http://127.0.0.1:8050/\n",
      "Debugger PIN: 098-102-877\n",
      " * Serving Flask app \"__main__\" (lazy loading)\n",
      " * Environment: production\n",
      "   WARNING: This is a development server. Do not use it in a production deployment.\n",
      "   Use a production WSGI server instead.\n",
      " * Debug mode: on\n"
     ]
    }
   ],
   "source": [
    "app.layout = html.Div([\n",
    "    html.Div([\n",
    "        html.Div([\n",
    "            html.H3('Column 1'),\n",
    "            dcc.Graph(\n",
    "        id='example-graph',\n",
    "        figure={\n",
    "            'data': [\n",
    "                {'x': tips['smoker'], 'y': tips['tip'], 'type': 'bar', 'name': 'smoker'},\n",
    "                {'x': tips['sex'], 'y': tips['tip'], 'type': 'violin', 'name': 'sex'}\n",
    "            ],\n",
    "            'layout': {\n",
    "                'title': 'Tips Dash Data Visualization'}})], className=\"col-5\"),\n",
    "\n",
    "        html.Div([\n",
    "            html.H3('Column 2'),\n",
    "            dcc.Graph(\n",
    "                id = 'graph-scatter',\n",
    "                figure = {'data': [\n",
    "                    go.Scatter(\n",
    "                        x = tips[tips['day'] == i]['tip'],\n",
    "                        y = tips[tips['day'] == i]['total_bill'],\n",
    "                        mode='markers',\n",
    "                        name = 'Day {}'.format(i)\n",
    "                        ) for i in tips['day'].unique()\n",
    "                    ],\n",
    "                    'layout':go.Layout(\n",
    "                        xaxis= {'title': 'Tip'},\n",
    "                        yaxis={'title': ' Total Bill'},\n",
    "                        title= 'Tips Dash Scatter Visualization',\n",
    "                        hovermode='closest')})], className=\"col-4\"),\n",
    "\n",
    "        html.Div([\n",
    "            html.H3('Column 3'),\n",
    "            dcc.Graph(\n",
    "        id = 'pie chart',\n",
    "        figure = {\n",
    "            'data':[\n",
    "        go.Pie(labels = [i for i in tips['sex'].unique()], \n",
    "        values= [tips[tips['sex'] == i]['tip'].mean() for i in tips['sex'].unique()]\n",
    "        )],\n",
    "        'layout': go.Layout(title = 'Tip mean divided by Sex')})], className=\"col-3\")\n",
    "    ], className=\"row\")\n",
    "])\n",
    "\n",
    "app.css.append_css({\n",
    "    'external_url': 'https://codepen.io/chriddyp/pen/bWLwgP.css'\n",
    "})\n",
    "\n",
    "if __name__ == '__main__':\n",
    "    app.run_server(debug=True, use_reloader=False)"
   ]
  },
  {
   "cell_type": "code",
   "execution_count": null,
   "metadata": {},
   "outputs": [],
   "source": []
  }
 ],
 "metadata": {
  "kernelspec": {
   "display_name": "Python 3",
   "language": "python",
   "name": "python3"
  },
  "language_info": {
   "codemirror_mode": {
    "name": "ipython",
    "version": 3
   },
   "file_extension": ".py",
   "mimetype": "text/x-python",
   "name": "python",
   "nbconvert_exporter": "python",
   "pygments_lexer": "ipython3",
   "version": "3.7.4"
  }
 },
 "nbformat": 4,
 "nbformat_minor": 2
}
